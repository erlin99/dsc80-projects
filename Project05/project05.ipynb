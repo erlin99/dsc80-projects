{
 "cells": [
  {
   "cell_type": "markdown",
   "metadata": {},
   "source": [
    "# DSC 80: Project 05\n",
    "\n",
    "### Due Date: Sunday, June 7, 11:59:59 PM"
   ]
  },
  {
   "cell_type": "markdown",
   "metadata": {},
   "source": [
    "# Instructions\n",
    "\n",
    "This project will be an open-ended investigation into the dataset you chose for your project 3; you can make reference from project 3. You will pose a prediction problem and train a model to solve it. You will follow the steps given below:\n",
    "\n",
    "1. Use the dataset you chose in project 03 (`ads`, `github`, `outages`).\n",
    "1. Clearly state and frame a prediction problem (classification or regression); choose and justify an objective (e.g. accuracy vs f1-score).\n",
    "1. Train a \"baseline\" model with generic set of features created for different kinds of data (e.g. ordinal encoding, one-hot encoding).\n",
    "1. Engineer at least two new features from the data that improve your baseline model.\n",
    "1. Create an `sklearn` ML-pipeline; do a search for the best model and parameters using the pipeline.\n",
    "1. Do an inference analysis on the results (i.e. does my model perform better on attribute X vs Y?).\n",
    "\n",
    "\n",
    "## How to Organize and Submit Your Work for Grading\n",
    "\n",
    "### Summary of Findings\n",
    "\n",
    "You must summarize your results in a *Summary  of Findings* section, in markdown cells. **Failure to summarize your results this way will result in a zero.**\n",
    "\n",
    "The *Summary of Findings* section should include a summary of each of the above bullets in the project description above:\n",
    "1. State the *prediction problem* you are attempting. State whether the problem is a classification or regression problem. Explain your choice of target variables and the evaluation metric you used for your two models (objective).\n",
    "1. A summary of the baseline model:\n",
    "    - The number of features, including how many are quantitative, ordinal, and nominal.\n",
    "    - The model performance (your evaluation metric) and whether you think this it's good or not (and why).\n",
    "1. A summary of the final, improved model:\n",
    "    - The features you added and *why* they are good for your data.\n",
    "    - The model type you chose; the parameters that ended up performing best; the method of model selection used (how you chose your final model).\n",
    "1. Evaluate your model for \"fairness\" on an interesting subset of the data using a permutation test. Justify the parity measure you are using.\n",
    "\n",
    "**You will be graded on addressing the above bullet points in your summary.** You should have your code included at bottom in a clearly done, commented fashion. Upon reading the summary, it should be easy for the grader to glance down at the code to see the supporting work.\n",
    "\n",
    "You may keep your code in a `.py` file and import it if you'd like. Just (1) be sure the output is clearly visible in the notebook, and (2) copy and paste the code from the file to the *very* bottom of the notebook."
   ]
  },
  {
   "cell_type": "markdown",
   "metadata": {},
   "source": [
    "# Submitting Your Project\n",
    "\n",
    "You will submit the notebook with your write-up (and code) to Gradescope; you will **not** be turning in a `.py` file.\n",
    "\n",
    "1. Save your notebook (e.g. `ads.ipynb`) as a PDF file. To do this, use your web browser to print the page; choose the print to PDF option (this is more reliable).\n",
    "2. Upload the file to the Gradescope assignment for the dataset you chose. For example, if you did `ads`, then upload your pdf to the assignment `project05_ads`.\n",
    "3. You are done! (You do *not* need to upload this notebook)."
   ]
  },
  {
   "cell_type": "code",
   "execution_count": null,
   "metadata": {},
   "outputs": [],
   "source": []
  }
 ],
 "metadata": {
  "celltoolbar": "Slideshow",
  "kernelspec": {
   "display_name": "Python 3",
   "language": "python",
   "name": "python3"
  },
  "language_info": {
   "codemirror_mode": {
    "name": "ipython",
    "version": 3
   },
   "file_extension": ".py",
   "mimetype": "text/x-python",
   "name": "python",
   "nbconvert_exporter": "python",
   "pygments_lexer": "ipython3",
   "version": "3.7.4"
  }
 },
 "nbformat": 4,
 "nbformat_minor": 2
}
